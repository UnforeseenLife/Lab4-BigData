{
 "cells": [
  {
   "cell_type": "markdown",
   "metadata": {},
   "source": [
    "## Analysing Survivability on the Titanic using Machine learning\n",
    "<br>\n",
    "David Kahn <br>\n",
    "12/9/2016 <br>\n",
    "<br>\n",
    "<br>\n",
    "In this analysis I analyze the information about those who survived and passed away on the Titanic to determine whether randomly chosen people would die or not. The Age (adult, child), Sex (male, female), and class (first, second, third, worker), were used as determining factors. Using 3 different classifers, I determined the most accurate prediction method and used that to predict the outcomes of the randomly generated people. Following this I used the same prediction method to determine what factor played the greatest role in the survival of someone."
   ]
  },
  {
   "cell_type": "code",
   "execution_count": 23,
   "metadata": {
    "collapsed": false
   },
   "outputs": [],
   "source": [
    "#code to import a csv and convert it to a numpy array\n",
    "#import the numpy library\n",
    "import numpy as np;\n",
    "#open the file\n",
    "raw_data = open(\"titanic.csv\");\n",
    "# load the CSV file as a numpy matrix\n",
    "dataset = np.loadtxt(raw_data, delimiter=\",\");\n",
    "#'shape' is the dimensions of the matrix\n",
    "#print(dataset.shape);\n",
    "# separate the data from the target attributes\n",
    "# features[class child/adult gender] survived\n",
    "X = dataset[:,0:3];  \n",
    "y = dataset[:,3];\n",
    "#will first print out shape of dataset\n",
    "#will then print out X\n",
    "#print(X);\n",
    "#will print out small list of numbers 1’s and 0’s\n",
    "#print(y);\n"
   ]
  },
  {
   "cell_type": "code",
   "execution_count": 24,
   "metadata": {
    "collapsed": false,
    "scrolled": true
   },
   "outputs": [
    {
     "name": "stdout",
     "output_type": "stream",
     "text": [
      "Accuracy of DecisionTreeClassifier: 78.1198910082%\n",
      "Accuracy of KNeighborsClassifer: 73.5876475931%\n",
      "Accuracy of RandomForestClassifier: 78.1562216167%\n",
      "\n",
      "\n",
      "The random forest classifier had the most accurate test results and predicted that the third class male adult would die.\n",
      "\n",
      "The random forest classifier had the most accurate test results and predicted that the first class female adult would survive.\n",
      "\n",
      "The random forest classifier had the most accurate test results and predicted that the first class female child would survive.\n"
     ]
    }
   ],
   "source": [
    "from sklearn import datasets;\n",
    "import random;\n",
    "\n",
    "from sklearn.cross_validation import train_test_split;\n",
    "X_train, X_test, y_train, y_test = train_test_split(X, y, test_size = .5);\n",
    "\n",
    "from sklearn import tree;\n",
    "from sklearn.metrics import accuracy_score;\n",
    "from sklearn import neighbors;\n",
    "from sklearn import ensemble;\n",
    "\n",
    "\n",
    "treetemp = 0;\n",
    "knntemp = 0;\n",
    "rftemp = 0;\n",
    "runtime = 10;\n",
    "\n",
    "for sample in range(runtime):\n",
    "    X_train, X_test, y_train, y_test = train_test_split(X, y, test_size = .5);\n",
    "    \n",
    "    tree_classifier = tree.DecisionTreeClassifier();\n",
    "    tree_classifier = tree_classifier.fit(X_train, y_train);\n",
    "    tree_predictions = tree_classifier.predict(X_test);\n",
    "    treetemp+=accuracy_score(tree_predictions, y_test);\n",
    "    \n",
    "    knn_classifier = neighbors.KNeighborsClassifier();\n",
    "    knn_classifier = knn_classifier.fit(X_train, y_train);\n",
    "    knn_predictions = knn_classifier.predict(X_test);\n",
    "    knntemp+=accuracy_score(knn_predictions, y_test);\n",
    "    \n",
    "    rf_classifier = ensemble.RandomForestClassifier();\n",
    "    rf_classifier = rf_classifier.fit(X_train, y_train);\n",
    "    rf_predictions = rf_classifier.predict(X_test);\n",
    "    rftemp+=accuracy_score(rf_predictions, y_test);\n",
    "    \n",
    "treetemp = treetemp/runtime;\n",
    "knntemp = knntemp/runtime;\n",
    "rftemp = rftemp/runtime;\n",
    "\n",
    "print(\"Accuracy of DecisionTreeClassifier:\", str(treetemp*100)+\"%\");\n",
    "print(\"Accuracy of KNeighborsClassifer:\", str(knntemp*100)+\"%\");\n",
    "print(\"Accuracy of RandomForestClassifier:\", str(rftemp*100)+\"%\");\n",
    "\n",
    "def persontype(person):\n",
    "    temptype = [];\n",
    "    crew = bool(False);\n",
    "    stay = bool(False);\n",
    "    \n",
    "    #class\n",
    "    if person[0] == 0:\n",
    "        temptype.append(\"crew member\");\n",
    "        crew = True;\n",
    "    elif person[0] == 1:\n",
    "        temptype.append(\"first class\");\n",
    "    elif person[0] == 2:\n",
    "        temptype.append(\"second class\");\n",
    "    else:\n",
    "        temptype.append(\"third class\");\n",
    "    \n",
    "    #age\n",
    "    if person[1] == 0:\n",
    "        temptype.append(\"child\");\n",
    "    else:\n",
    "        temptype.append(\"adult\");\n",
    "\n",
    "    #sex\n",
    "    if person[2] == 0:\n",
    "        temptype.append(\"female\");\n",
    "    else:\n",
    "        temptype.append(\"male\");\n",
    "    \n",
    "    if crew == True:\n",
    "        return(temptype[2]+\" \"+temptype[1]+\" \"+temptype[0]);\n",
    "    else:\n",
    "        return(temptype[0]+\" \"+temptype[2]+\" \"+temptype[1]);\n",
    "    \n",
    "        \n",
    "def personpred(person):\n",
    "    personreturn = persontype(person);\n",
    "    if treetemp > knntemp and treetemp > rftemp:\n",
    "        live_predictions = tree_classifier.predict([person]);\n",
    "        if live_predictions[0] == 0:\n",
    "            print(\"The tree classifier had the most accurate test results and predicted that the \"+personreturn+\" would die.\");\n",
    "        else:\n",
    "            print(\"The tree classifier had the most accurate test results and predicted that the \"+personreturn+\" would survive.\");\n",
    "    elif knntemp > treetemp and knntemp > rftemp:\n",
    "        live_predictions = knn_classifier.predict([person]);\n",
    "        if live_predictions[0] == 0:\n",
    "            print(\"The neighbors classifier had the most accurate test results and predicted that the \"+personreturn+\" would die.\");\n",
    "        else:\n",
    "            print(\"The neighbors classifier had the most accurate test results and predicted that the \"+personreturn+\" would survive.\");\n",
    "    elif rftemp > treetemp and rftemp > knntemp:\n",
    "        live_predictions = tree_classifier.predict([person]);\n",
    "        if live_predictions[0] == 0:\n",
    "            print(\"The random forest classifier had the most accurate test results and predicted that the \"+personreturn+\" would die.\");\n",
    "        else:\n",
    "            print(\"The random forest classifier had the most accurate test results and predicted that the \"+personreturn+\" would survive.\");\n",
    "    else:\n",
    "        print(\"Using default predictor (tree_classifier) due to error.\");\n",
    "        live_predictions = tree_classifier.predict([person]);\n",
    "        print(live_predictions);\n",
    "        \n",
    "print(\"\");\n",
    "print(\"\");\n",
    "personpred([3, 1, 1]);\n",
    "print(\"\");\n",
    "personpred([1, 1, 0]);\n",
    "print(\"\");\n",
    "personpred([1, 0, 0]);\n",
    "#print(persontype([1, 1, 1]));"
   ]
  },
  {
   "cell_type": "code",
   "execution_count": 25,
   "metadata": {
    "collapsed": false
   },
   "outputs": [
    {
     "name": "stdout",
     "output_type": "stream",
     "text": [
      "\n",
      "\n",
      "The random forest classifier had the most accurate test results and predicted that the third class female adult would survive.\n",
      "\n",
      "The random forest classifier had the most accurate test results and predicted that the first class male adult would die.\n",
      "\n",
      "The random forest classifier had the most accurate test results and predicted that the first class male child would survive.\n"
     ]
    }
   ],
   "source": [
    "print(\"\");\n",
    "print(\"\");\n",
    "personpred([3, 1, 0]);\n",
    "print(\"\");\n",
    "personpred([1, 1, 1]);\n",
    "print(\"\");\n",
    "personpred([1, 0, 1]);"
   ]
  },
  {
   "cell_type": "markdown",
   "metadata": {},
   "source": [
    "Most important determining factors: Gender and Age"
   ]
  },
  {
   "cell_type": "markdown",
   "metadata": {},
   "source": [
    "### Conclusion <br>\n",
    "<br>\n",
    "I propose that a posssible reason that the post important factors for wether the person would die or not are Gender and Age, is that there used to be the saying Women and Children first (when evacuating onto life boats). This would mean that no matter what, women would have been able to get onto a life boat despite their age. This would also mean that male children would have a relativly high possibility of surviving too if they were in a class (first/second, Not crew member), due to them also being evacuated in life boats and falling into the children category of 'women and children first'.\n",
    "\n",
    "Overall, I learned that ones class was not as important to deciding their fate as I had previously though. I had imagined that those in second class and the crew members would be given little to no 'priority' in terms of recieving a space in a life boat, yet this was not the case. It seems that the real factors were gender and age which, while not what I was expecting, still made sense."
   ]
  },
  {
   "cell_type": "code",
   "execution_count": null,
   "metadata": {
    "collapsed": true
   },
   "outputs": [],
   "source": []
  }
 ],
 "metadata": {
  "anaconda-cloud": {},
  "kernelspec": {
   "display_name": "Python [Root]",
   "language": "python",
   "name": "Python [Root]"
  },
  "language_info": {
   "codemirror_mode": {
    "name": "ipython",
    "version": 3
   },
   "file_extension": ".py",
   "mimetype": "text/x-python",
   "name": "python",
   "nbconvert_exporter": "python",
   "pygments_lexer": "ipython3",
   "version": "3.5.2"
  }
 },
 "nbformat": 4,
 "nbformat_minor": 0
}
